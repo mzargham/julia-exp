{
 "cells": [
  {
   "cell_type": "code",
   "execution_count": 28,
   "metadata": {},
   "outputs": [],
   "source": [
    "using DynamicalSystems\n",
    "using DifferentialEquations"
   ]
  },
  {
   "cell_type": "code",
   "execution_count": 2,
   "metadata": {},
   "outputs": [
    {
     "data": {
      "text/plain": [
       "0.1"
      ]
     },
     "metadata": {},
     "output_type": "display_data"
    }
   ],
   "source": [
    "# Parameters\n",
    "num_steps = 1000  # number of time steps in the simulation\n",
    "dt = 0.1  # step size\n",
    "pursuer_max_speed = 5.0  # maximum speed of the pursuer\n",
    "pursuer_max_ang_velocity = 1.0  # maximum angular velocity of the pursuer\n",
    "evader_max_accel = 2.0  # maximum acceleration of the evader\n",
    "evader_max_speed = 10.0  # maximum speed of the evader\n",
    "pursuer_obs_noise = 0.1  # variance of the observation noise for the pursuer\n",
    "evader_obs_noise = 0.1  # variance of the observation noise for the evader"
   ]
  },
  {
   "cell_type": "code",
   "execution_count": 3,
   "metadata": {},
   "outputs": [
    {
     "data": {
      "text/plain": [
       "1000"
      ]
     },
     "metadata": {},
     "output_type": "display_data"
    }
   ],
   "source": [
    "num_steps "
   ]
  },
  {
   "cell_type": "code",
   "execution_count": 4,
   "metadata": {},
   "outputs": [
    {
     "data": {
      "text/plain": [
       "0.1"
      ]
     },
     "metadata": {},
     "output_type": "display_data"
    }
   ],
   "source": [
    "dt"
   ]
  },
  {
   "cell_type": "code",
   "execution_count": 5,
   "metadata": {},
   "outputs": [
    {
     "data": {
      "text/plain": [
       "Float64"
      ]
     },
     "metadata": {},
     "output_type": "display_data"
    }
   ],
   "source": [
    "typeof(dt)"
   ]
  },
  {
   "cell_type": "code",
   "execution_count": 6,
   "metadata": {},
   "outputs": [
    {
     "data": {
      "text/plain": [
       "5-element Vector{Int64}:\n",
       " 1\n",
       " 2\n",
       " 3\n",
       " 4\n",
       " 5"
      ]
     },
     "metadata": {},
     "output_type": "display_data"
    }
   ],
   "source": [
    "vector = [1,2,3,4,5]"
   ]
  },
  {
   "cell_type": "code",
   "execution_count": 7,
   "metadata": {},
   "outputs": [
    {
     "data": {
      "text/plain": [
       "1"
      ]
     },
     "metadata": {},
     "output_type": "display_data"
    }
   ],
   "source": [
    "vector[1]"
   ]
  },
  {
   "cell_type": "code",
   "execution_count": 8,
   "metadata": {},
   "outputs": [
    {
     "data": {
      "text/plain": [
       "10"
      ]
     },
     "metadata": {},
     "output_type": "display_data"
    }
   ],
   "source": [
    "vector[1]= 10"
   ]
  },
  {
   "cell_type": "code",
   "execution_count": 9,
   "metadata": {},
   "outputs": [
    {
     "data": {
      "text/plain": [
       "10"
      ]
     },
     "metadata": {},
     "output_type": "display_data"
    }
   ],
   "source": [
    "vector[1]"
   ]
  },
  {
   "cell_type": "code",
   "execution_count": 10,
   "metadata": {},
   "outputs": [
    {
     "data": {
      "text/plain": [
       "5-element Vector{Int64}:\n",
       " 10\n",
       "  2\n",
       "  3\n",
       "  4\n",
       "  5"
      ]
     },
     "metadata": {},
     "output_type": "display_data"
    }
   ],
   "source": [
    "vector"
   ]
  },
  {
   "cell_type": "code",
   "execution_count": 11,
   "metadata": {},
   "outputs": [
    {
     "data": {
      "text/plain": [
       "evader_dynamics! (generic function with 1 method)"
      ]
     },
     "metadata": {},
     "output_type": "display_data"
    }
   ],
   "source": [
    "function evader_dynamics!(dx, x, p, t)\n",
    "    # Unpack state variables\n",
    "    ex, ey, evx, evy = x\n",
    "    # Unpack parameters\n",
    "    max_accel, max_speed, pursuer_pos, pursuer_vel, obs_noise = p\n",
    "    \n",
    "    # Calculate distance and bearing to pursuer\n",
    "    dx = pursuer_pos[1] - ex\n",
    "    dy = pursuer_pos[2] - ey\n",
    "    r = hypot(dx, dy)\n",
    "    theta = atan(dy, dx)\n",
    "    \n",
    "    # Apply observation noise\n",
    "    r += randn() * obs_noise\n",
    "    theta += randn() * obs_noise\n",
    "    \n",
    "    # Estimate pursuer position and velocity\n",
    "    pursuer_vx_est = pursuer_vel[1] + randn() * obs_noise\n",
    "    pursuer_vy_est = pursuer_vel[2] + randn() * obs_noise\n",
    "    pursuer_px_est = pursuer_pos[1] + pursuer_vx_est * r / evader_max_speed\n",
    "    pursuer_py_est = pursuer_pos[2] + pursuer_vy_est * r / evader_max_speed\n",
    "    \n",
    "    # Control law to maximize distance to pursuer\n",
    "    desired_accel = max_accel .* (cos(theta), sin(theta)) #reworked to handle scalar times vector\n",
    "    dax = desired_accel[1]\n",
    "    day = desired_accel[2]\n",
    "    accel_error = (dax-evx, day-evy)\n",
    "    accel = norm(accel_error) <= max_accel ? accel_error : normalize(accel_error) * max_accel\n",
    "    speed_error = max_speed - hypot(evx, evy)\n",
    "    speed = clamp(speed_error, -max_accel * dt, max_accel * dt) + hypot(evx, evy)\n",
    "    \n",
    "    # Update state variables\n",
    "    dx[1] = evx\n",
    "    dx[2] = evy\n",
    "    dx[3] = accel[1]\n",
    "    dx[4] = accel[2]\n",
    "end\n"
   ]
  },
  {
   "cell_type": "code",
   "execution_count": null,
   "metadata": {},
   "outputs": [],
   "source": [
    "\n",
    "# Helper function to wrap an angle to the range [-pi, pi]\n",
    "# this was missing from the GPT3 recommendation so i added it\n",
    "function wrap_to_pi(angle)\n",
    "    return atan(sin(angle), cos(angle))\n",
    "end"
   ]
  },
  {
   "cell_type": "code",
   "execution_count": 29,
   "metadata": {},
   "outputs": [
    {
     "name": "stdout",
     "output_type": "stream",
     "text": [
      "evader_dynamics!"
     ]
    }
   ],
   "source": [
    "show(evader_dynamics!)"
   ]
  },
  {
   "cell_type": "code",
   "execution_count": 54,
   "metadata": {},
   "outputs": [
    {
     "data": {
      "text/plain": [
       "0.0"
      ]
     },
     "metadata": {},
     "output_type": "display_data"
    }
   ],
   "source": [
    "# Set up input arguments\n",
    "dx = zeros(4)  # initialize the state variable derivatives\n",
    "x = [0.0, 0.0, 0.0, 0.0]  # initialize the state variables\n",
    "p = [2.0, 5.0, [10.0, 10.0], [0.0, 0.0], 0.1]  # initialize the parameters\n",
    "t = 0.0  # initialize the time variable"
   ]
  },
  {
   "cell_type": "code",
   "execution_count": 55,
   "metadata": {},
   "outputs": [
    {
     "data": {
      "text/plain": [
       "4-element Vector{Float64}:\n",
       " 0.0\n",
       " 0.0\n",
       " 0.0\n",
       " 0.0"
      ]
     },
     "metadata": {},
     "output_type": "display_data"
    }
   ],
   "source": [
    "ex, ey, evx, evy = x"
   ]
  },
  {
   "cell_type": "code",
   "execution_count": 56,
   "metadata": {},
   "outputs": [
    {
     "data": {
      "text/plain": [
       "0.0"
      ]
     },
     "metadata": {},
     "output_type": "display_data"
    }
   ],
   "source": [
    "ex"
   ]
  },
  {
   "cell_type": "code",
   "execution_count": 57,
   "metadata": {},
   "outputs": [
    {
     "data": {
      "text/plain": [
       "5-element Vector{Any}:\n",
       " 2.0\n",
       " 5.0\n",
       "  [10.0, 10.0]\n",
       "  [0.0, 0.0]\n",
       " 0.1"
      ]
     },
     "metadata": {},
     "output_type": "display_data"
    }
   ],
   "source": [
    "max_accel, max_speed, pursuer_pos, pursuer_vel, obs_noise = p"
   ]
  },
  {
   "cell_type": "code",
   "execution_count": 58,
   "metadata": {},
   "outputs": [
    {
     "data": {
      "text/plain": [
       "10.0"
      ]
     },
     "metadata": {},
     "output_type": "display_data"
    }
   ],
   "source": [
    "dx = pursuer_pos[1] - ex"
   ]
  },
  {
   "cell_type": "code",
   "execution_count": 35,
   "metadata": {},
   "outputs": [
    {
     "data": {
      "text/plain": [
       "10.0"
      ]
     },
     "metadata": {},
     "output_type": "display_data"
    }
   ],
   "source": [
    "dy = pursuer_pos[2] - ey"
   ]
  },
  {
   "cell_type": "code",
   "execution_count": 36,
   "metadata": {},
   "outputs": [
    {
     "data": {
      "text/plain": [
       "14.142135623730951"
      ]
     },
     "metadata": {},
     "output_type": "display_data"
    }
   ],
   "source": [
    "r = hypot(dx, dy)"
   ]
  },
  {
   "cell_type": "code",
   "execution_count": 37,
   "metadata": {},
   "outputs": [
    {
     "data": {
      "text/plain": [
       "0.7853981633974483"
      ]
     },
     "metadata": {},
     "output_type": "display_data"
    }
   ],
   "source": [
    "theta = atan(dy, dx)"
   ]
  },
  {
   "cell_type": "code",
   "execution_count": 38,
   "metadata": {},
   "outputs": [
    {
     "data": {
      "text/plain": [
       "10.038525127674857"
      ]
     },
     "metadata": {},
     "output_type": "display_data"
    }
   ],
   "source": [
    "    # Apply observation noise\n",
    "    r += randn() * obs_noise\n",
    "    theta += randn() * obs_noise\n",
    "    \n",
    "    # Estimate pursuer position and velocity\n",
    "    pursuer_vx_est = pursuer_vel[1] + randn() * obs_noise\n",
    "    pursuer_vy_est = pursuer_vel[2] + randn() * obs_noise\n",
    "    pursuer_px_est = pursuer_pos[1] + pursuer_vx_est * r / evader_max_speed\n",
    "    pursuer_py_est = pursuer_pos[2] + pursuer_vy_est * r / evader_max_speed"
   ]
  },
  {
   "cell_type": "code",
   "execution_count": 39,
   "metadata": {},
   "outputs": [
    {
     "data": {
      "text/plain": [
       "clamp_vector2magnitude (generic function with 1 method)"
      ]
     },
     "metadata": {},
     "output_type": "display_data"
    }
   ],
   "source": [
    "function clamp_vector2magnitude(v::AbstractVector{T}, max_mag::Real) where {T <: Real}\n",
    "    v_mag = norm(v)\n",
    "    if v_mag <= max_mag\n",
    "        return copy(v)\n",
    "    else\n",
    "        return (max_mag / v_mag) .* v\n",
    "    end\n",
    "end"
   ]
  },
  {
   "cell_type": "code",
   "execution_count": 40,
   "metadata": {},
   "outputs": [
    {
     "data": {
      "text/plain": [
       "(1.405163647939234, 1.4232059311674137)"
      ]
     },
     "metadata": {},
     "output_type": "display_data"
    }
   ],
   "source": [
    "    # Control law to maximize distance to pursuer\n",
    "    desired_accel = max_accel .* (cos(theta), sin(theta))\n"
   ]
  },
  {
   "cell_type": "code",
   "execution_count": 41,
   "metadata": {},
   "outputs": [],
   "source": [
    "using LinearAlgebra\n"
   ]
  },
  {
   "cell_type": "code",
   "execution_count": 42,
   "metadata": {},
   "outputs": [
    {
     "data": {
      "text/plain": [
       "0.2"
      ]
     },
     "metadata": {},
     "output_type": "display_data"
    }
   ],
   "source": [
    "desired_accel = max_accel .* (cos(theta), sin(theta))\n",
    "dax = desired_accel[1]\n",
    "day = desired_accel[2]\n",
    "accel_error = (dax-evx, day-evy)\n",
    "accel = norm(accel_error) <= max_accel ? accel_error : normalize(accel_error) * max_accel\n",
    "speed_error = max_speed - hypot(evx, evy)\n",
    "speed = clamp(speed_error, -max_accel * dt, max_accel * dt) + hypot(evx, evy)"
   ]
  },
  {
   "cell_type": "code",
   "execution_count": 53,
   "metadata": {},
   "outputs": [
    {
     "data": {
      "text/plain": [
       "10.0"
      ]
     },
     "metadata": {},
     "output_type": "display_data"
    }
   ],
   "source": [
    "dx"
   ]
  },
  {
   "cell_type": "code",
   "execution_count": 49,
   "metadata": {},
   "outputs": [
    {
     "ename": "MethodError",
     "evalue": "MethodError: no method matching setindex!(::Float64, ::Float64, ::Int64)",
     "output_type": "error",
     "traceback": [
      "MethodError: no method matching setindex!(::Float64, ::Float64, ::Int64)\n",
      "\n",
      "Stacktrace:\n",
      " [1] top-level scope\n",
      "   @ ~/Documents/GitHub/julia-exp/testing.ipynb:2"
     ]
    }
   ],
   "source": [
    "    # Update state variables\n",
    "    dx[1] = evx\n"
   ]
  },
  {
   "cell_type": "code",
   "execution_count": null,
   "metadata": {},
   "outputs": [],
   "source": [
    "    dx[2] = evy\n",
    "    dx[3] = accel[1]\n",
    "    dx[4] = accel[2]"
   ]
  },
  {
   "cell_type": "code",
   "execution_count": 47,
   "metadata": {},
   "outputs": [
    {
     "ename": "MethodError",
     "evalue": "MethodError: no method matching -(::Tuple{Float64, Float64}, ::Tuple{Float64, Float64})\nClosest candidates are:\n  -(!Matched::VectorizationBase.CartesianVIndex, ::Any) at ~/.julia/packages/VectorizationBase/zlsw9/src/cartesianvindex.jl:80\n  -(!Matched::ChainRulesCore.AbstractThunk, ::Any) at ~/.julia/packages/ChainRulesCore/a4mIA/src/tangent_types/thunks.jl:34\n  -(!Matched::IntervalRootFinding.Slope, ::Any) at ~/.julia/packages/IntervalRootFinding/gKaGR/src/slopes.jl:75\n  ...",
     "output_type": "error",
     "traceback": [
      "MethodError: no method matching -(::Tuple{Float64, Float64}, ::Tuple{Float64, Float64})\n",
      "Closest candidates are:\n",
      "  -(!Matched::VectorizationBase.CartesianVIndex, ::Any) at ~/.julia/packages/VectorizationBase/zlsw9/src/cartesianvindex.jl:80\n",
      "  -(!Matched::ChainRulesCore.AbstractThunk, ::Any) at ~/.julia/packages/ChainRulesCore/a4mIA/src/tangent_types/thunks.jl:34\n",
      "  -(!Matched::IntervalRootFinding.Slope, ::Any) at ~/.julia/packages/IntervalRootFinding/gKaGR/src/slopes.jl:75\n",
      "  ...\n",
      "\n",
      "Stacktrace:\n",
      " [1] evader_dynamics!(dx::Float64, x::Vector{Float64}, p::Vector{Any}, t::Float64)\n",
      "   @ Main ~/Documents/GitHub/julia-exp/testing.ipynb:25\n",
      " [2] top-level scope\n",
      "   @ ~/Documents/GitHub/julia-exp/testing.ipynb:2"
     ]
    }
   ],
   "source": [
    "# Call the function\n",
    "evader_dynamics!(dx, x, p, t)\n"
   ]
  },
  {
   "cell_type": "code",
   "execution_count": null,
   "metadata": {},
   "outputs": [],
   "source": []
  }
 ],
 "metadata": {
  "kernelspec": {
   "display_name": "Julia 1.8.5",
   "language": "julia",
   "name": "julia-1.8"
  },
  "language_info": {
   "file_extension": ".jl",
   "mimetype": "application/julia",
   "name": "julia",
   "version": "1.8.5"
  },
  "orig_nbformat": 4
 },
 "nbformat": 4,
 "nbformat_minor": 2
}
